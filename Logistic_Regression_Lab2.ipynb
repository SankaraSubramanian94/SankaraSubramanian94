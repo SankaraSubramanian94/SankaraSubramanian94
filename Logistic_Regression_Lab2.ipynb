{
  "nbformat": 4,
  "nbformat_minor": 0,
  "metadata": {
    "colab": {
      "name": "Logistic_Regression_Lab2.ipynb",
      "provenance": [],
      "collapsed_sections": [],
      "authorship_tag": "ABX9TyPW9Mnd5iSdBIGjC7SaoX+2",
      "include_colab_link": true
    },
    "kernelspec": {
      "name": "python3",
      "display_name": "Python 3"
    },
    "language_info": {
      "name": "python"
    }
  },
  "cells": [
    {
      "cell_type": "markdown",
      "metadata": {
        "id": "view-in-github",
        "colab_type": "text"
      },
      "source": [
        "<a href=\"https://colab.research.google.com/github/SankaraSubramanian94/SankaraSubramanian94/blob/main/Logistic_Regression_Lab2.ipynb\" target=\"_parent\"><img src=\"https://colab.research.google.com/assets/colab-badge.svg\" alt=\"Open In Colab\"/></a>"
      ]
    },
    {
      "cell_type": "markdown",
      "source": [
        "### 1. Import Pandas, Pyplot and Read data"
      ],
      "metadata": {
        "id": "fcVSTuEbCMLM"
      }
    },
    {
      "cell_type": "code",
      "execution_count": null,
      "metadata": {
        "id": "e7YVJhTKCFHd"
      },
      "outputs": [],
      "source": [
        "import matplotlib.pyplot as plt\n",
        "import numpy as np\n",
        "import pandas as pd\n",
        "from sklearn import metrics\n",
        "from sklearn.linear_model import LogisticRegression\n",
        "from sklearn.metrics import classification_report, mean_squared_error, r2_score\n",
        "from sklearn.model_selection import train_test_split\n",
        "import statsmodels.api as sm\n",
        "import seaborn as sns\n",
        "\n",
        "%matplotlib inline\n",
        "\n",
        "pd.set_option('display.max_colwidth', None)\n",
        "\n",
        "sns.set(style=\"white\")\n",
        "sns.set(style=\"whitegrid\", color_codes=True)\n",
        "\n",
        "# CSV is first read in from a github raw file another option is to import the notebook to your session storage by click on the file icon on left toolbar then importing csv\n",
        "! wget https://raw.githubusercontent.com/DLPY/Classification_Session_2/main/Student2020.csv"
      ]
    },
    {
      "cell_type": "code",
      "source": [
        "# Once we have the csv file pd.read_csv() converts it to a pandas dataframe\n",
        "df = pd.read_csv('Student2020.csv')"
      ],
      "metadata": {
        "id": "Qc_U7zRaCM_5"
      },
      "execution_count": null,
      "outputs": []
    },
    {
      "cell_type": "markdown",
      "source": [
        "### 2. Investigating the Data and exploration"
      ],
      "metadata": {
        "id": "enPj7YpABVrj"
      }
    },
    {
      "cell_type": "code",
      "source": [
        "df.head(5)"
      ],
      "metadata": {
        "id": "wLRStt9UDW5T"
      },
      "execution_count": null,
      "outputs": []
    },
    {
      "cell_type": "code",
      "source": [
        "# check types, nulls and counts\n",
        "df.info()"
      ],
      "metadata": {
        "id": "gydVi9dq-xAS"
      },
      "execution_count": null,
      "outputs": []
    },
    {
      "cell_type": "code",
      "source": [
        "# investigate the variability of the numeric columns\n",
        "df.describe()"
      ],
      "metadata": {
        "id": "zGgjkcS9C3R0"
      },
      "execution_count": null,
      "outputs": []
    },
    {
      "cell_type": "code",
      "source": [
        "df.Pass.value_counts()\n",
        "sns.countplot(x='Pass', data=df, palette='hls')\n",
        "plt.show()"
      ],
      "metadata": {
        "id": "Pr3R_WDBNu5H"
      },
      "execution_count": null,
      "outputs": []
    },
    {
      "cell_type": "code",
      "source": [
        "Fail = len(df[df['Pass']=='Fail'])\n",
        "Pass = len(df[df['Pass']=='Pass'])\n",
        "pct_of_fail = Fail/(Fail+Pass)\n",
        "print(\"percentage of fail is\", pct_of_fail*100)\n",
        "pct_of_pass = Pass/(Fail+Pass)\n",
        "print(\"percentage of pass\", pct_of_pass*100)"
      ],
      "metadata": {
        "id": "vDBdarI5ONHP"
      },
      "execution_count": null,
      "outputs": []
    },
    {
      "cell_type": "code",
      "source": [
        "# Checking various null entries in the dataset, with the help of heatmap\n",
        "sns.heatmap(df.isnull(), cbar=False)"
      ],
      "metadata": {
        "id": "QC9n9r14trOs"
      },
      "execution_count": null,
      "outputs": []
    },
    {
      "cell_type": "markdown",
      "source": [
        "### 3. Split the data to prepare training and testing sets"
      ],
      "metadata": {
        "id": "4NBvLCYNMjl1"
      }
    },
    {
      "cell_type": "code",
      "source": [
        "# Independent Variable\n",
        "X = df.drop(['Pass'], axis=1).values\n",
        "\n",
        "# Depenedent Variable\n",
        "y = df.Pass.values\n",
        "\n",
        "# Split Observations in 80% training set 20% test set\n",
        "X_train, X_test, y_train, y_test = train_test_split(X, y, test_size=0.2, random_state=21)\n",
        "print('Training Data:', X_train.shape, y_train.shape)\n",
        "print('Testing Data:', X_test.shape, y_test.shape)"
      ],
      "metadata": {
        "id": "3bbUMAtVFpLA"
      },
      "execution_count": null,
      "outputs": []
    },
    {
      "cell_type": "markdown",
      "source": [
        "### 4. Train the model"
      ],
      "metadata": {
        "id": "Y9iRW1rTPyPk"
      }
    },
    {
      "cell_type": "code",
      "source": [
        "# instantiate the model (using the default parameters)\n",
        "logreg = LogisticRegression(solver='lbfgs', max_iter=300)\n",
        "\n",
        "# fit the model with data\n",
        "logreg.fit(X_train,y_train)"
      ],
      "metadata": {
        "id": "I1ruDXxgNTx_"
      },
      "execution_count": null,
      "outputs": []
    },
    {
      "cell_type": "code",
      "source": [
        "# Coefficient and Intercept\n",
        "print(logreg.coef_)\n",
        "print(logreg.intercept_)"
      ],
      "metadata": {
        "id": "YxiqjM7AP29P"
      },
      "execution_count": null,
      "outputs": []
    },
    {
      "cell_type": "code",
      "source": [
        "# Create dataframe from regressor coefficient to display results in a dataframe\n",
        "column_names = ['age', 'Auditory', 'Kinaesthetic', 'Visual', 'ExtrinsicMotivation', 'IntrinsicMotivation', 'SelfEfficacy', 'StudyTime', 'Conscientiousness', 'CAOpoints', 'Maths', 'English']\n",
        "coefficient_df = pd.DataFrame(logreg.coef_) # T - Transpose dataframe rows to columns\n",
        "coefficient_df.columns = column_names\n",
        "coefficient_df"
      ],
      "metadata": {
        "id": "soxuKyuEP6t9"
      },
      "execution_count": null,
      "outputs": []
    },
    {
      "cell_type": "markdown",
      "source": [
        "### 5. Predict the test values"
      ],
      "metadata": {
        "id": "oZSEdqpMSpWq"
      }
    },
    {
      "cell_type": "code",
      "source": [
        "# Predict test set from model built during training \n",
        "y_pred = logreg.predict(X_test)"
      ],
      "metadata": {
        "id": "UKnoNdZ8R2Pu"
      },
      "execution_count": null,
      "outputs": []
    },
    {
      "cell_type": "markdown",
      "source": [
        "### 6. Evaluate the model using Confusion Matrix, Accuracy, Precision, Recall, F1-Score and ROC Curve"
      ],
      "metadata": {
        "id": "lLjOdGltHgKE"
      }
    },
    {
      "cell_type": "markdown",
      "source": [
        "#### i) Confusion Matrix\n",
        "\n"
      ],
      "metadata": {
        "id": "UZMdzttpPPWK"
      }
    },
    {
      "cell_type": "code",
      "source": [
        "cnf_matrix = metrics.confusion_matrix(y_test, y_pred)"
      ],
      "metadata": {
        "id": "Z33ty9uTSvKf"
      },
      "execution_count": null,
      "outputs": []
    },
    {
      "cell_type": "code",
      "source": [
        "fig, ax = plt.subplots()\n",
        "# create heatmap\n",
        "sns.heatmap(pd.DataFrame(cnf_matrix), annot=True, cmap=\"YlGnBu\" ,fmt='g')\n",
        "ax.xaxis.set_label_position(\"top\")\n",
        "plt.tight_layout()\n",
        "plt.title('Confusion matrix', y=1.1)\n",
        "plt.ylabel('Actual label')\n",
        "plt.xlabel('Predicted label')\n",
        "ax.xaxis.set_ticklabels(['Fail', 'Pass']); ax.yaxis.set_ticklabels(['Fail', 'Pass']);"
      ],
      "metadata": {
        "id": "flK51xqouwMv"
      },
      "execution_count": null,
      "outputs": []
    },
    {
      "cell_type": "markdown",
      "source": [
        "#### ii) classification report -  Accuracy, Precision, Recall, F1-Score"
      ],
      "metadata": {
        "id": "2AfBv1mfPWDF"
      }
    },
    {
      "cell_type": "code",
      "source": [
        "classificationReport = pd.DataFrame(classification_report(y_test,y_pred,output_dict=True)).T\n",
        "classificationReport"
      ],
      "metadata": {
        "id": "_Be77kpaGxXk"
      },
      "execution_count": null,
      "outputs": []
    },
    {
      "cell_type": "markdown",
      "source": [
        "#### iii) ROC Curve"
      ],
      "metadata": {
        "id": "gcafL65bPial"
      }
    },
    {
      "cell_type": "code",
      "source": [
        "# convert string to int\n",
        "y_test_int = pd.DataFrame(y_test, columns= ['Pass_Fail'])\n",
        "y_test_int = y_test_int['Pass_Fail'].apply(lambda x : 0 if x == 'Fail' else 1 )\n",
        "\n",
        "y_pred_int = pd.DataFrame(y_pred, columns= ['Pass_Fail'])\n",
        "y_pred_int = y_pred_int['Pass_Fail'].apply(lambda x : 0 if x == 'Fail' else 1 )"
      ],
      "metadata": {
        "id": "9HWEmDRBPt7A"
      },
      "execution_count": null,
      "outputs": []
    },
    {
      "cell_type": "code",
      "source": [
        "logit_roc_auc = metrics.roc_auc_score(y_test_int, y_pred_int)\n",
        "fpr, tpr, thresholds = metrics.roc_curve(y_test_int,  y_pred_int)\n",
        "plt.figure()\n",
        "plt.plot(fpr, tpr, label='Logistic Regression (area = %0.2f)' % logit_roc_auc)\n",
        "plt.plot([0, 1], [0, 1],'r--')\n",
        "plt.xlim([0.0, 1.0])\n",
        "plt.ylim([0.0, 1.05])\n",
        "plt.xlabel('False Positive Rate')\n",
        "plt.ylabel('True Positive Rate')\n",
        "plt.title('Receiver operating characteristic')\n",
        "plt.legend(loc=\"lower right\")\n",
        "plt.savefig('Log_ROC')\n",
        "plt.show()"
      ],
      "metadata": {
        "id": "wMuqpyIgPrJe"
      },
      "execution_count": null,
      "outputs": []
    }
  ]
}